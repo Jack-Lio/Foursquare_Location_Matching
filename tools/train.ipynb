{
 "cells": [
  {
   "cell_type": "code",
   "execution_count": 2,
   "metadata": {},
   "outputs": [],
   "source": [
    "import sys\n",
    "sys.path.append('../')\n",
    "\n",
    "from models.config.defaults import cfg\n",
    "from models.LM import LM\n",
    "from models.data import DATA\n",
    "\n",
    "\n",
    "def train(cfg):\n",
    "    # load data\n",
    "    data = DATA(cfg)\n",
    "    # load model\n",
    "    model = LM(cfg)\n",
    "    \n",
    "    _, train_data = data.get_pair_train_data_dict(auto_gen=True, rounds = 2, n_neighbors = 5, features = cfg.DATA.FEATURES)\n",
    "    # train\n",
    "    model.train(train_data)"
   ]
  }
 ],
 "metadata": {
  "interpreter": {
   "hash": "1b3a56c02ac010ffc853fb4715fe897a4c37d2b24cbd003bd5a5e5548bbb4710"
  },
  "kernelspec": {
   "display_name": "Python 3.8.13 ('ML')",
   "language": "python",
   "name": "python3"
  },
  "language_info": {
   "codemirror_mode": {
    "name": "ipython",
    "version": 3
   },
   "file_extension": ".py",
   "mimetype": "text/x-python",
   "name": "python",
   "nbconvert_exporter": "python",
   "pygments_lexer": "ipython3",
   "version": "3.8.13"
  },
  "orig_nbformat": 4
 },
 "nbformat": 4,
 "nbformat_minor": 2
}
