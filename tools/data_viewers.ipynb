{
 "cells": [
  {
   "cell_type": "code",
   "execution_count": null,
   "metadata": {},
   "outputs": [
    {
     "ename": "",
     "evalue": "",
     "output_type": "error",
     "traceback": [
      "\u001b[1;31mPython 3.6.13 ('computer_network') 需要安装 ipykernel。\n",
      "Run the following command to install 'ipykernel' into the Python environment. \n",
      "Command: 'conda install -n computer_network ipykernel --update-deps --force-reinstall'"
     ]
    }
   ],
   "source": [
    "import numpy as np\n",
    "import os"
   ]
  },
  {
   "cell_type": "code",
   "execution_count": null,
   "metadata": {},
   "outputs": [
    {
     "ename": "",
     "evalue": "",
     "output_type": "error",
     "traceback": [
      "\u001b[1;31mPython 3.6.13 ('computer_network') 需要安装 ipykernel。\n",
      "Run the following command to install 'ipykernel' into the Python environment. \n",
      "Command: 'conda install -n computer_network ipykernel --update-deps --force-reinstall'"
     ]
    },
    {
     "ename": "",
     "evalue": "",
     "output_type": "error",
     "traceback": [
      "\u001b[1;31mPython 3.6.13 ('computer_network') 需要安装 ipykernel。\n",
      "Run the following command to install 'ipykernel' into the Python environment. \n",
      "Command: 'conda install -n computer_network ipykernel --update-deps --force-reinstall'"
     ]
    }
   ],
   "source": [
    "dataset = \"../dataset/\"\n",
    "\n",
    "def get_lines(file_name, line_count, delimiter=\",\"):\n",
    "    lines = []\n",
    "    with open(file_name, \"r\") as f:\n",
    "        for i, line in enumerate(f):\n",
    "            if i == line_count:\n",
    "                lines.extend(line.split(delimiter))"
   ]
  },
  {
   "cell_type": "code",
   "execution_count": null,
   "metadata": {},
   "outputs": [
    {
     "ename": "",
     "evalue": "",
     "output_type": "error",
     "traceback": [
      "\u001b[1;31mPython 3.6.13 ('computer_network') 需要安装 ipykernel。\n",
      "Run the following command to install 'ipykernel' into the Python environment. \n",
      "Command: 'conda install -n computer_network ipykernel --update-deps --force-reinstall'"
     ]
    },
    {
     "ename": "",
     "evalue": "",
     "output_type": "error",
     "traceback": [
      "\u001b[1;31mPython 3.6.13 ('computer_network') 需要安装 ipykernel。\n",
      "Run the following command to install 'ipykernel' into the Python environment. \n",
      "Command: 'conda install -n computer_network ipykernel --update-deps --force-reinstall'"
     ]
    }
   ],
   "source": [
    "pairs = get_lines(os.path.join(dataset, \"pairs.txt\"), 10)\n",
    "print(pairs)"
   ]
  }
 ],
 "metadata": {
  "interpreter": {
   "hash": "591e739a56d74bb4b8a5148f025cb82f0d943e645b4101a733cf83d8eea2e90e"
  },
  "kernelspec": {
   "display_name": "Python 3.6.13 ('computer_network')",
   "language": "python",
   "name": "python3"
  },
  "language_info": {
   "name": "python",
   "version": "3.6.13"
  },
  "orig_nbformat": 4
 },
 "nbformat": 4,
 "nbformat_minor": 2
}
