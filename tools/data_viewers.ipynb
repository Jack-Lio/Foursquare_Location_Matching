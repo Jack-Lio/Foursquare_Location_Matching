{
 "cells": [
  {
   "cell_type": "code",
   "execution_count": 20,
   "metadata": {},
   "outputs": [],
   "source": [
    "import csv \n",
    "import os"
   ]
  },
  {
   "cell_type": "code",
   "execution_count": 21,
   "metadata": {},
   "outputs": [],
   "source": [
    "dataset = \"../dataset/\"\n",
    "\n",
    "def get_lines(file_name, line_count, delimiter=\",\"):\n",
    "    lines = []\n",
    "    with open(file_name, \"r\", encoding='utf-8') as f:\n",
    "        reader = csv.reader(f, delimiter=delimiter)\n",
    "        for i, line in enumerate(reader):\n",
    "            if i == line_count:\n",
    "                break\n",
    "            lines.append(line)\n",
    "    return lines"
   ]
  },
  {
   "cell_type": "code",
   "execution_count": 23,
   "metadata": {},
   "outputs": [
    {
     "name": "stdout",
     "output_type": "stream",
     "text": [
      "['id_1', 'name_1', 'latitude_1', 'longitude_1', 'address_1', 'city_1', 'state_1', 'zip_1', 'country_1', 'url_1', 'phone_1', 'categories_1', 'id_2', 'name_2', 'latitude_2', 'longitude_2', 'address_2', 'city_2', 'state_2', 'zip_2', 'country_2', 'url_2', 'phone_2', 'categories_2', 'match']\n",
      "['E_000001272c6c5d', 'Café Stad Oudenaarde', '50.85997533509319', '3.6341963487748346', 'Abdijstraat', 'Nederename', 'Oost-Vlaanderen', '9700', 'BE', '', '', 'Bars', 'E_da7fa3963561f8', 'Café Oudenaarde', '50.869358', '3.635206', '', '', '', '', 'BE', '', '', 'Bars', 'True']\n",
      "['E_000008a8ba4f48', 'Turkcell', '37.84451021530735', '27.84420157619721', 'Adnan Menderes Bulvarı', '', '', '', 'TR', '', '', 'Mobile Phone Shops', 'E_3f12df0b045062', 'Turkcell', '37.83802', '27.84556', 'batı aydın', 'aydın', '', '67500', 'TR', '', '', 'Electronics Stores', 'False']\n",
      "['E_000023d8f4be44', 'Island Spa', '14.518969876756294', '121.01870186448409', '5th Flr, Newport Mall, Resorts World Manila', 'Pasay City', 'Metro Manila', '', 'PH', '', '', 'Spas', 'E_12453effe251db', 'Island Spa Theater', '14.5183300767907', '121.01982745051409', '', '', '', '', 'PH', '', '', 'Spas', 'True']\n",
      "['E_00007dcd2bb53f', \"TOGO'S Sandwiches\", '38.25779696430681', '-122.06459937900875', '1380 Holiday Ln., Ste. B', 'Fairfield', 'CA', '94534', 'US', 'https://locations.togos.com/ll/US/CA/Fairfield/1380-Holiday-Ln_*-Ste_-B', '7074394747', 'Sandwich Places', 'E_f131dcb7f07be9', \"Togo's\", '38.257938385009766', '-122.06460571289062', '', 'Fairfield', 'CA', '', 'US', '', '', 'Sandwich Places', 'True']\n",
      "['E_0000c362229d93', 'Coffee Cat', '7.082217570120776', '125.61024431048877', 'F. Torres St.', 'Davao City', 'Davao Region', '8000', 'PH', '', '', 'Cafés, Coffee Shops', 'E_d52c3c4d53831c', 'Coffeecat', '7.076016009861477', '125.6114565833095', 'E. Jacinto Extension', 'Davao City', 'Davao Region', '8000', 'PH', '', '', 'Coffee Shops, Cafés, Dessert Shops', 'False']\n",
      "['E_0000c566a81ea1', 'つじ田 味噌の章', '35.6947961230064', '139.767347574234', '神田小川町1-1', '千代田区', '東京都', '101-0052', 'JP', 'https://tsukemen-tsujita.com', '366597676', 'Ramen Restaurants', 'E_8d58f3151bae83', '味噌の章', '35.694597895648705', '139.76798057556152', '', '', '', '', 'JP', '', '', 'Noodle Houses', 'True']\n",
      "['E_0000d9e584ed9f', 'Signature Properties Savannah', '32.012582421983865', '-81.11315647459574', '100 Commercial Ct Ste C', 'Savannah', 'GA', '31406', 'US', 'http://www.oursignatureproperties.com', '9126292700', 'Real Estate Offices', 'E_caad79f6ed7c44', 'Signature Properties Savannah', '32.0106215', '-81.1080888', '7014 Abercorn St', 'Savannah', 'GA', '31406', 'US', '', '', '', 'True']\n",
      "['E_00011cca3f0bd6', 'Inner Workings', '35.68692982193012', '-105.9391665458679', 'Serving General Area', 'Santa Fe', 'NM', '87501', 'US', 'http://innerworkingsmassage.com', '(505) 850-0872', 'Massage Studios', 'E_aeffddf31a4b9e', 'Inner Workings', '35.68591897540412', '-105.93961715698242', 'Serving General Area', 'Santa Fe', 'NM', '87501', 'US', '', '+15058500872', 'Massage Studios', 'True']\n",
      "['E_00015cd7e0227f', 'Lake Destiny', '28.643612764211014', '-81.38913176922752', '', 'Maitland', 'FL', '32751', 'US', '', '', 'Lakes', 'E_7250ab441d9d42', 'Lake destiny field', '28.62930612584856', '-81.39197680885961', '', 'Maitland', 'FL', '32751', 'US', '', '', 'Soccer Fields', 'False']\n"
     ]
    }
   ],
   "source": [
    "pairs = get_lines(os.path.join(dataset, \"pairs.csv\"), 10)\n",
    "for line in pairs:\n",
    "    print(line)"
   ]
  }
 ],
 "metadata": {
  "interpreter": {
   "hash": "de0bc8409ef025c1cbb840425cc59fe64b9a9f2a4a8c73e6bb75ee7bfb1e593c"
  },
  "kernelspec": {
   "display_name": "Python 3.8.13 ('ML')",
   "language": "python",
   "name": "python3"
  },
  "language_info": {
   "codemirror_mode": {
    "name": "ipython",
    "version": 3
   },
   "file_extension": ".py",
   "mimetype": "text/x-python",
   "name": "python",
   "nbconvert_exporter": "python",
   "pygments_lexer": "ipython3",
   "version": "3.8.13"
  },
  "orig_nbformat": 4
 },
 "nbformat": 4,
 "nbformat_minor": 2
}
