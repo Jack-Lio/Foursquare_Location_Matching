{
 "cells": [
  {
   "cell_type": "code",
   "execution_count": 1,
   "metadata": {},
   "outputs": [],
   "source": [
    "import csv \n",
    "import seaborn as sns\n",
    "import os\n",
    "import matplotlib.pyplot as plt\n",
    "import country_converter as coco\n",
    "import pandas as pd\n",
    "import sys\n",
    "import re\n",
    "\n",
    "sys.path.append('../')\n",
    "from utils.reader import get_lines"
   ]
  },
  {
   "cell_type": "code",
   "execution_count": 2,
   "metadata": {},
   "outputs": [
    {
     "name": "stdout",
     "output_type": "stream",
     "text": [
      "../dataset/.gitkeep\n",
      "../dataset/foursquare-location-matching.zip\n",
      "../dataset/pairs.csv\n",
      "../dataset/sample_submission.csv\n",
      "../dataset/test.csv\n",
      "../dataset/train.csv\n"
     ]
    }
   ],
   "source": [
    "dataset = \"../dataset/\"\n",
    "\n",
    "# Get the dataset file structure.\n",
    "for dirname, _, filenames in os.walk(dataset):\n",
    "    for filename in filenames:\n",
    "        print(os.path.join(dataset, filename))\n"
   ]
  },
  {
   "cell_type": "markdown",
   "metadata": {},
   "source": [
    "## 1. Check the dataset and data shape"
   ]
  },
  {
   "cell_type": "code",
   "execution_count": 3,
   "metadata": {},
   "outputs": [
    {
     "name": "stdout",
     "output_type": "stream",
     "text": [
      "train.csv: (1138812, 13)\n",
      "test.csv: (5, 12)\n",
      "sample_submission.csv: (5, 2)\n",
      "pairs.csv: (578907, 25)\n"
     ]
    }
   ],
   "source": [
    "train = pd.read_csv(os.path.join(dataset, \"train.csv\"))\n",
    "test = pd.read_csv(os.path.join(dataset, \"test.csv\"))\n",
    "sample = pd.read_csv(os.path.join(dataset, \"sample_submission.csv\"))\n",
    "pairs = pd.read_csv(os.path.join(dataset, \"pairs.csv\"))\n",
    "\n",
    "# Display the data set scale.\n",
    "print(\"train.csv:\", train.shape)\n",
    "print(\"test.csv:\", test.shape)\n",
    "print(\"sample_submission.csv:\", sample.shape)\n",
    "print(\"pairs.csv:\", pairs.shape)"
   ]
  },
  {
   "cell_type": "code",
   "execution_count": 4,
   "metadata": {},
   "outputs": [
    {
     "name": "stdout",
     "output_type": "stream",
     "text": [
      "id\n",
      "name\n",
      "latitude\n",
      "longitude\n",
      "address\n",
      "city\n",
      "state\n",
      "zip\n",
      "country\n",
      "url\n",
      "phone\n",
      "categories\n",
      "point_of_interest\n"
     ]
    }
   ],
   "source": [
    "for h in train.head(2).keys():\n",
    "    print(h)"
   ]
  },
  {
   "cell_type": "code",
   "execution_count": 31,
   "metadata": {},
   "outputs": [
    {
     "data": {
      "text/html": [
       "<div>\n",
       "<style scoped>\n",
       "    .dataframe tbody tr th:only-of-type {\n",
       "        vertical-align: middle;\n",
       "    }\n",
       "\n",
       "    .dataframe tbody tr th {\n",
       "        vertical-align: top;\n",
       "    }\n",
       "\n",
       "    .dataframe thead th {\n",
       "        text-align: right;\n",
       "    }\n",
       "</style>\n",
       "<table border=\"1\" class=\"dataframe\">\n",
       "  <thead>\n",
       "    <tr style=\"text-align: right;\">\n",
       "      <th></th>\n",
       "      <th>id</th>\n",
       "      <th>name</th>\n",
       "      <th>latitude</th>\n",
       "      <th>longitude</th>\n",
       "      <th>address</th>\n",
       "      <th>city</th>\n",
       "      <th>state</th>\n",
       "      <th>zip</th>\n",
       "      <th>country</th>\n",
       "      <th>url</th>\n",
       "      <th>phone</th>\n",
       "      <th>categories</th>\n",
       "      <th>point_of_interest</th>\n",
       "    </tr>\n",
       "  </thead>\n",
       "  <tbody>\n",
       "    <tr>\n",
       "      <th>0</th>\n",
       "      <td>E_000001272c6c5d</td>\n",
       "      <td>Café Stad Oudenaarde</td>\n",
       "      <td>50.859975</td>\n",
       "      <td>3.634196</td>\n",
       "      <td>Abdijstraat</td>\n",
       "      <td>Nederename</td>\n",
       "      <td>Oost-Vlaanderen</td>\n",
       "      <td>9700</td>\n",
       "      <td>BE</td>\n",
       "      <td>NaN</td>\n",
       "      <td>NaN</td>\n",
       "      <td>Bars</td>\n",
       "      <td>P_677e840bb6fc7e</td>\n",
       "    </tr>\n",
       "  </tbody>\n",
       "</table>\n",
       "</div>"
      ],
      "text/plain": [
       "                 id                  name   latitude  longitude      address  \\\n",
       "0  E_000001272c6c5d  Café Stad Oudenaarde  50.859975   3.634196  Abdijstraat   \n",
       "\n",
       "         city            state   zip country  url phone categories  \\\n",
       "0  Nederename  Oost-Vlaanderen  9700      BE  NaN   NaN       Bars   \n",
       "\n",
       "  point_of_interest  \n",
       "0  P_677e840bb6fc7e  "
      ]
     },
     "execution_count": 31,
     "metadata": {},
     "output_type": "execute_result"
    }
   ],
   "source": [
    "train.head(1)"
   ]
  },
  {
   "cell_type": "code",
   "execution_count": 6,
   "metadata": {},
   "outputs": [
    {
     "data": {
      "text/html": [
       "<div>\n",
       "<style scoped>\n",
       "    .dataframe tbody tr th:only-of-type {\n",
       "        vertical-align: middle;\n",
       "    }\n",
       "\n",
       "    .dataframe tbody tr th {\n",
       "        vertical-align: top;\n",
       "    }\n",
       "\n",
       "    .dataframe thead th {\n",
       "        text-align: right;\n",
       "    }\n",
       "</style>\n",
       "<table border=\"1\" class=\"dataframe\">\n",
       "  <thead>\n",
       "    <tr style=\"text-align: right;\">\n",
       "      <th></th>\n",
       "      <th>id</th>\n",
       "      <th>name</th>\n",
       "      <th>latitude</th>\n",
       "      <th>longitude</th>\n",
       "      <th>address</th>\n",
       "      <th>city</th>\n",
       "      <th>state</th>\n",
       "      <th>zip</th>\n",
       "      <th>country</th>\n",
       "      <th>url</th>\n",
       "      <th>phone</th>\n",
       "      <th>categories</th>\n",
       "    </tr>\n",
       "  </thead>\n",
       "  <tbody>\n",
       "    <tr>\n",
       "      <th>0</th>\n",
       "      <td>E_00001118ad0191</td>\n",
       "      <td>Jamu Petani Bagan Serai</td>\n",
       "      <td>5.012169</td>\n",
       "      <td>100.535805</td>\n",
       "      <td>NaN</td>\n",
       "      <td>NaN</td>\n",
       "      <td>NaN</td>\n",
       "      <td>NaN</td>\n",
       "      <td>MY</td>\n",
       "      <td>NaN</td>\n",
       "      <td>NaN</td>\n",
       "      <td>Cafés</td>\n",
       "    </tr>\n",
       "    <tr>\n",
       "      <th>1</th>\n",
       "      <td>E_000020eb6fed40</td>\n",
       "      <td>Johnny's Bar</td>\n",
       "      <td>40.434209</td>\n",
       "      <td>-80.564160</td>\n",
       "      <td>497 N 12th St</td>\n",
       "      <td>Weirton</td>\n",
       "      <td>WV</td>\n",
       "      <td>26062.0</td>\n",
       "      <td>US</td>\n",
       "      <td>NaN</td>\n",
       "      <td>NaN</td>\n",
       "      <td>Bars</td>\n",
       "    </tr>\n",
       "  </tbody>\n",
       "</table>\n",
       "</div>"
      ],
      "text/plain": [
       "                 id                     name   latitude   longitude  \\\n",
       "0  E_00001118ad0191  Jamu Petani Bagan Serai   5.012169  100.535805   \n",
       "1  E_000020eb6fed40             Johnny's Bar  40.434209  -80.564160   \n",
       "\n",
       "         address     city state      zip country  url  phone categories  \n",
       "0            NaN      NaN   NaN      NaN      MY  NaN    NaN      Cafés  \n",
       "1  497 N 12th St  Weirton    WV  26062.0      US  NaN    NaN       Bars  "
      ]
     },
     "execution_count": 6,
     "metadata": {},
     "output_type": "execute_result"
    }
   ],
   "source": [
    "test.head(2)"
   ]
  },
  {
   "cell_type": "code",
   "execution_count": 7,
   "metadata": {},
   "outputs": [
    {
     "data": {
      "text/html": [
       "<div>\n",
       "<style scoped>\n",
       "    .dataframe tbody tr th:only-of-type {\n",
       "        vertical-align: middle;\n",
       "    }\n",
       "\n",
       "    .dataframe tbody tr th {\n",
       "        vertical-align: top;\n",
       "    }\n",
       "\n",
       "    .dataframe thead th {\n",
       "        text-align: right;\n",
       "    }\n",
       "</style>\n",
       "<table border=\"1\" class=\"dataframe\">\n",
       "  <thead>\n",
       "    <tr style=\"text-align: right;\">\n",
       "      <th></th>\n",
       "      <th>id</th>\n",
       "      <th>matches</th>\n",
       "    </tr>\n",
       "  </thead>\n",
       "  <tbody>\n",
       "    <tr>\n",
       "      <th>0</th>\n",
       "      <td>E_00001118ad0191</td>\n",
       "      <td>E_00001118ad0191</td>\n",
       "    </tr>\n",
       "    <tr>\n",
       "      <th>1</th>\n",
       "      <td>E_000020eb6fed40</td>\n",
       "      <td>E_000020eb6fed40</td>\n",
       "    </tr>\n",
       "  </tbody>\n",
       "</table>\n",
       "</div>"
      ],
      "text/plain": [
       "                 id           matches\n",
       "0  E_00001118ad0191  E_00001118ad0191\n",
       "1  E_000020eb6fed40  E_000020eb6fed40"
      ]
     },
     "execution_count": 7,
     "metadata": {},
     "output_type": "execute_result"
    }
   ],
   "source": [
    "sample.head(2)"
   ]
  },
  {
   "cell_type": "code",
   "execution_count": 8,
   "metadata": {},
   "outputs": [
    {
     "data": {
      "text/html": [
       "<div>\n",
       "<style scoped>\n",
       "    .dataframe tbody tr th:only-of-type {\n",
       "        vertical-align: middle;\n",
       "    }\n",
       "\n",
       "    .dataframe tbody tr th {\n",
       "        vertical-align: top;\n",
       "    }\n",
       "\n",
       "    .dataframe thead th {\n",
       "        text-align: right;\n",
       "    }\n",
       "</style>\n",
       "<table border=\"1\" class=\"dataframe\">\n",
       "  <thead>\n",
       "    <tr style=\"text-align: right;\">\n",
       "      <th></th>\n",
       "      <th>id_1</th>\n",
       "      <th>name_1</th>\n",
       "      <th>latitude_1</th>\n",
       "      <th>longitude_1</th>\n",
       "      <th>address_1</th>\n",
       "      <th>city_1</th>\n",
       "      <th>state_1</th>\n",
       "      <th>zip_1</th>\n",
       "      <th>country_1</th>\n",
       "      <th>url_1</th>\n",
       "      <th>...</th>\n",
       "      <th>longitude_2</th>\n",
       "      <th>address_2</th>\n",
       "      <th>city_2</th>\n",
       "      <th>state_2</th>\n",
       "      <th>zip_2</th>\n",
       "      <th>country_2</th>\n",
       "      <th>url_2</th>\n",
       "      <th>phone_2</th>\n",
       "      <th>categories_2</th>\n",
       "      <th>match</th>\n",
       "    </tr>\n",
       "  </thead>\n",
       "  <tbody>\n",
       "    <tr>\n",
       "      <th>0</th>\n",
       "      <td>E_000001272c6c5d</td>\n",
       "      <td>Café Stad Oudenaarde</td>\n",
       "      <td>50.859975</td>\n",
       "      <td>3.634196</td>\n",
       "      <td>Abdijstraat</td>\n",
       "      <td>Nederename</td>\n",
       "      <td>Oost-Vlaanderen</td>\n",
       "      <td>9700</td>\n",
       "      <td>BE</td>\n",
       "      <td>NaN</td>\n",
       "      <td>...</td>\n",
       "      <td>3.635206</td>\n",
       "      <td>NaN</td>\n",
       "      <td>NaN</td>\n",
       "      <td>NaN</td>\n",
       "      <td>NaN</td>\n",
       "      <td>BE</td>\n",
       "      <td>NaN</td>\n",
       "      <td>NaN</td>\n",
       "      <td>Bars</td>\n",
       "      <td>True</td>\n",
       "    </tr>\n",
       "    <tr>\n",
       "      <th>1</th>\n",
       "      <td>E_000008a8ba4f48</td>\n",
       "      <td>Turkcell</td>\n",
       "      <td>37.844510</td>\n",
       "      <td>27.844202</td>\n",
       "      <td>Adnan Menderes Bulvarı</td>\n",
       "      <td>NaN</td>\n",
       "      <td>NaN</td>\n",
       "      <td>NaN</td>\n",
       "      <td>TR</td>\n",
       "      <td>NaN</td>\n",
       "      <td>...</td>\n",
       "      <td>27.845560</td>\n",
       "      <td>batı aydın</td>\n",
       "      <td>aydın</td>\n",
       "      <td>NaN</td>\n",
       "      <td>67500</td>\n",
       "      <td>TR</td>\n",
       "      <td>NaN</td>\n",
       "      <td>NaN</td>\n",
       "      <td>Electronics Stores</td>\n",
       "      <td>False</td>\n",
       "    </tr>\n",
       "  </tbody>\n",
       "</table>\n",
       "<p>2 rows × 25 columns</p>\n",
       "</div>"
      ],
      "text/plain": [
       "               id_1                name_1  latitude_1  longitude_1  \\\n",
       "0  E_000001272c6c5d  Café Stad Oudenaarde   50.859975     3.634196   \n",
       "1  E_000008a8ba4f48              Turkcell   37.844510    27.844202   \n",
       "\n",
       "                address_1      city_1          state_1 zip_1 country_1 url_1  \\\n",
       "0             Abdijstraat  Nederename  Oost-Vlaanderen  9700        BE   NaN   \n",
       "1  Adnan Menderes Bulvarı         NaN              NaN   NaN        TR   NaN   \n",
       "\n",
       "   ... longitude_2   address_2 city_2 state_2  zip_2  country_2 url_2 phone_2  \\\n",
       "0  ...    3.635206         NaN    NaN     NaN    NaN         BE   NaN     NaN   \n",
       "1  ...   27.845560  batı aydın  aydın     NaN  67500         TR   NaN     NaN   \n",
       "\n",
       "         categories_2  match  \n",
       "0                Bars   True  \n",
       "1  Electronics Stores  False  \n",
       "\n",
       "[2 rows x 25 columns]"
      ]
     },
     "execution_count": 8,
     "metadata": {},
     "output_type": "execute_result"
    }
   ],
   "source": [
    "pairs.head(2)"
   ]
  },
  {
   "cell_type": "markdown",
   "metadata": {},
   "source": [
    "## 2. Check the data type and validate the dataset quality"
   ]
  },
  {
   "cell_type": "code",
   "execution_count": 9,
   "metadata": {},
   "outputs": [
    {
     "name": "stdout",
     "output_type": "stream",
     "text": [
      "<class 'pandas.core.frame.DataFrame'>\n",
      "RangeIndex: 1138812 entries, 0 to 1138811\n",
      "Data columns (total 13 columns):\n",
      " #   Column             Non-Null Count    Dtype  \n",
      "---  ------             --------------    -----  \n",
      " 0   id                 1138812 non-null  object \n",
      " 1   name               1138811 non-null  object \n",
      " 2   latitude           1138812 non-null  float64\n",
      " 3   longitude          1138812 non-null  float64\n",
      " 4   address            742191 non-null   object \n",
      " 5   city               839623 non-null   object \n",
      " 6   state              718226 non-null   object \n",
      " 7   zip                543386 non-null   object \n",
      " 8   country            1138801 non-null  object \n",
      " 9   url                267724 non-null   object \n",
      " 10  phone              342855 non-null   object \n",
      " 11  categories         1040505 non-null  object \n",
      " 12  point_of_interest  1138812 non-null  object \n",
      "dtypes: float64(2), object(11)\n",
      "memory usage: 112.9+ MB\n"
     ]
    }
   ],
   "source": [
    "train.info()"
   ]
  },
  {
   "cell_type": "code",
   "execution_count": 9,
   "metadata": {},
   "outputs": [
    {
     "data": {
      "text/plain": [
       "{'url': 76.4909396810009,\n",
       " 'phone': 69.89362598918873,\n",
       " 'zip': 52.28483718120287,\n",
       " 'state': 36.93199579913102,\n",
       " 'address': 34.827609824975504,\n",
       " 'city': 26.272027340772663,\n",
       " 'categories': 8.632416939758276,\n",
       " 'country': 0.000965918869839798,\n",
       " 'name': 8.781080634907254e-05,\n",
       " 'id': 0.0,\n",
       " 'latitude': 0.0,\n",
       " 'longitude': 0.0,\n",
       " 'point_of_interest': 0.0}"
      ]
     },
     "execution_count": 9,
     "metadata": {},
     "output_type": "execute_result"
    }
   ],
   "source": [
    "missing_values = train.isnull().sum() / len(train) * 100 \n",
    "missing_values = missing_values.sort_values(ascending=False)\n",
    "missing_values.to_dict()"
   ]
  },
  {
   "cell_type": "markdown",
   "metadata": {},
   "source": [
    "This mean lots of columns with missing values, and the data is not clean. What is more, the url has the large amount of missing values."
   ]
  },
  {
   "cell_type": "code",
   "execution_count": 11,
   "metadata": {},
   "outputs": [
    {
     "data": {
      "image/png": "[encoded data removed]",
      "text/plain": [
       "<Figure size 576x504 with 1 Axes>"
      ]
     },
     "metadata": {
      "needs_background": "light"
     },
     "output_type": "display_data"
    }
   ],
   "source": [
    "plt.figure(figsize=(8,7))\n",
    "color=[\"gray\"]*len(missing_values.index)\n",
    "color[0]=\"aqua\"\n",
    "sns.barplot(x=missing_values.index, y=missing_values.values,palette=color, saturation=.5)#, palette=clrs) # color=clrs)\n",
    "plt.xticks(rotation=90)\n",
    "plt.title(\"% Missing Features\")\n",
    "plt.xlabel('Feature')\n",
    "plt.ylabel('Percentage')\n",
    "\n",
    "plt.tight_layout()"
   ]
  },
  {
   "cell_type": "code",
   "execution_count": 14,
   "metadata": {},
   "outputs": [
    {
     "name": "stdout",
     "output_type": "stream",
     "text": [
      "0.0\n"
     ]
    }
   ],
   "source": [
    "longitudes = pairs['longitude_1'].to_list()\n",
    "latitudes = pairs['latitude_1'].to_list()\n",
    "ids = pairs['id_1'].to_list()\n",
    "\n",
    "count = 0\n",
    "for lgt, lat, id in zip(longitudes, latitudes, ids):\n",
    "    if not pd.api.types.is_float(lgt) or not pd.api.types.is_float(lat) or not pd.api.types.is_re(re.compile(r'E_*')):\n",
    "        print(lgt, lat, id)\n",
    "        count += 1\n",
    "print(count/len(longitudes))"
   ]
  },
  {
   "cell_type": "code",
   "execution_count": 40,
   "metadata": {},
   "outputs": [
    {
     "name": "stdout",
     "output_type": "stream",
     "text": [
      "0.0 %\n"
     ]
    }
   ],
   "source": [
    "longitudes = train['longitude'].to_list()\n",
    "latitudes = train['latitude'].to_list()\n",
    "ids = train['id'].to_list()\n",
    "names = train['name'].to_list()\n",
    "categories = train['categories'].to_list()\n",
    "count = 0\n",
    "for lgt, lat, id, name, cat in zip(longitudes, latitudes, ids, names, categories):\n",
    "    if not pd.api.types.is_number(lgt) or not pd.api.types.is_number(lat) or not pd.api.types.is_re(re.compile(r'E_*')):\n",
    "        print(lgt, lat, id, name, cat)\n",
    "        count += 1\n",
    "print(count/len(longitudes)* 100 , '%')"
   ]
  },
  {
   "cell_type": "markdown",
   "metadata": {},
   "source": [
    "The two cells above mean that the each row data of the datasets has no shift."
   ]
  },
  {
   "cell_type": "markdown",
   "metadata": {},
   "source": [
    "## 3. The location data, analysis the unique data among the datasets."
   ]
  },
  {
   "cell_type": "code",
   "execution_count": 44,
   "metadata": {},
   "outputs": [
    {
     "name": "stdout",
     "output_type": "stream",
     "text": [
      "the rate of unique POIs among all: 64.98 %\n"
     ]
    }
   ],
   "source": [
    "print(\"the rate of unique POIs among all:\", round(len(train['point_of_interest'].unique()) / len(train['point_of_interest']), 4)*100, \"%\")"
   ]
  },
  {
   "cell_type": "code",
   "execution_count": 41,
   "metadata": {},
   "outputs": [
    {
     "name": "stdout",
     "output_type": "stream",
     "text": [
      "unique POIs number: 739972\n"
     ]
    }
   ],
   "source": [
    "print(\"unique POIs number:\", len(train['point_of_interest'].unique()))"
   ]
  },
  {
   "cell_type": "code",
   "execution_count": 45,
   "metadata": {},
   "outputs": [
    {
     "data": {
      "text/html": [
       "<div>\n",
       "<style scoped>\n",
       "    .dataframe tbody tr th:only-of-type {\n",
       "        vertical-align: middle;\n",
       "    }\n",
       "\n",
       "    .dataframe tbody tr th {\n",
       "        vertical-align: top;\n",
       "    }\n",
       "\n",
       "    .dataframe thead th {\n",
       "        text-align: right;\n",
       "    }\n",
       "</style>\n",
       "<table border=\"1\" class=\"dataframe\">\n",
       "  <thead>\n",
       "    <tr style=\"text-align: right;\">\n",
       "      <th></th>\n",
       "      <th>index</th>\n",
       "      <th>size</th>\n",
       "    </tr>\n",
       "  </thead>\n",
       "  <tbody>\n",
       "    <tr>\n",
       "      <th>726109</th>\n",
       "      <td>P_fb339198a31db3</td>\n",
       "      <td>332</td>\n",
       "    </tr>\n",
       "    <tr>\n",
       "      <th>168183</th>\n",
       "      <td>P_3a3fbd26e16269</td>\n",
       "      <td>199</td>\n",
       "    </tr>\n",
       "    <tr>\n",
       "      <th>714121</th>\n",
       "      <td>P_f70a0977377171</td>\n",
       "      <td>166</td>\n",
       "    </tr>\n",
       "    <tr>\n",
       "      <th>423601</th>\n",
       "      <td>P_9290e406eb58ac</td>\n",
       "      <td>145</td>\n",
       "    </tr>\n",
       "    <tr>\n",
       "      <th>728165</th>\n",
       "      <td>P_fbe61733fcdebe</td>\n",
       "      <td>132</td>\n",
       "    </tr>\n",
       "    <tr>\n",
       "      <th>259615</th>\n",
       "      <td>P_59cb47cbf3a432</td>\n",
       "      <td>130</td>\n",
       "    </tr>\n",
       "    <tr>\n",
       "      <th>717470</th>\n",
       "      <td>P_f82d146eaf21da</td>\n",
       "      <td>120</td>\n",
       "    </tr>\n",
       "    <tr>\n",
       "      <th>185692</th>\n",
       "      <td>P_40323f7f948c18</td>\n",
       "      <td>120</td>\n",
       "    </tr>\n",
       "    <tr>\n",
       "      <th>718690</th>\n",
       "      <td>P_f8a0cd160eec80</td>\n",
       "      <td>119</td>\n",
       "    </tr>\n",
       "    <tr>\n",
       "      <th>312569</th>\n",
       "      <td>P_6c385e5fd3a4b7</td>\n",
       "      <td>119</td>\n",
       "    </tr>\n",
       "    <tr>\n",
       "      <th>155515</th>\n",
       "      <td>P_35db41d5e6fe17</td>\n",
       "      <td>115</td>\n",
       "    </tr>\n",
       "    <tr>\n",
       "      <th>452765</th>\n",
       "      <td>P_9ca6f5784b5b37</td>\n",
       "      <td>115</td>\n",
       "    </tr>\n",
       "    <tr>\n",
       "      <th>66367</th>\n",
       "      <td>P_16f3e1dfab51fa</td>\n",
       "      <td>106</td>\n",
       "    </tr>\n",
       "    <tr>\n",
       "      <th>685319</th>\n",
       "      <td>P_ed155db12f35d7</td>\n",
       "      <td>105</td>\n",
       "    </tr>\n",
       "    <tr>\n",
       "      <th>551758</th>\n",
       "      <td>P_bee1aae475d656</td>\n",
       "      <td>103</td>\n",
       "    </tr>\n",
       "    <tr>\n",
       "      <th>609481</th>\n",
       "      <td>P_d2c3738f7e1882</td>\n",
       "      <td>99</td>\n",
       "    </tr>\n",
       "    <tr>\n",
       "      <th>702339</th>\n",
       "      <td>P_f2f1b7b21e5b87</td>\n",
       "      <td>92</td>\n",
       "    </tr>\n",
       "    <tr>\n",
       "      <th>674420</th>\n",
       "      <td>P_e953e34e177117</td>\n",
       "      <td>91</td>\n",
       "    </tr>\n",
       "    <tr>\n",
       "      <th>336273</th>\n",
       "      <td>P_745299120115a1</td>\n",
       "      <td>90</td>\n",
       "    </tr>\n",
       "    <tr>\n",
       "      <th>108261</th>\n",
       "      <td>P_2577c676e4ccf8</td>\n",
       "      <td>87</td>\n",
       "    </tr>\n",
       "  </tbody>\n",
       "</table>\n",
       "</div>"
      ],
      "text/plain": [
       "                   index  size\n",
       "726109  P_fb339198a31db3   332\n",
       "168183  P_3a3fbd26e16269   199\n",
       "714121  P_f70a0977377171   166\n",
       "423601  P_9290e406eb58ac   145\n",
       "728165  P_fbe61733fcdebe   132\n",
       "259615  P_59cb47cbf3a432   130\n",
       "717470  P_f82d146eaf21da   120\n",
       "185692  P_40323f7f948c18   120\n",
       "718690  P_f8a0cd160eec80   119\n",
       "312569  P_6c385e5fd3a4b7   119\n",
       "155515  P_35db41d5e6fe17   115\n",
       "452765  P_9ca6f5784b5b37   115\n",
       "66367   P_16f3e1dfab51fa   106\n",
       "685319  P_ed155db12f35d7   105\n",
       "551758  P_bee1aae475d656   103\n",
       "609481  P_d2c3738f7e1882    99\n",
       "702339  P_f2f1b7b21e5b87    92\n",
       "674420  P_e953e34e177117    91\n",
       "336273  P_745299120115a1    90\n",
       "108261  P_2577c676e4ccf8    87"
      ]
     },
     "execution_count": 45,
     "metadata": {},
     "output_type": "execute_result"
    }
   ],
   "source": [
    "poi_groups  = train.groupby(train['point_of_interest'].to_list(), as_index=False)\n",
    "poi_groups_size = poi_groups.size()\n",
    "poi_groups_size_top_10 = poi_groups_size.sort_values('size',ascending=False).head(20)\n",
    "poi_groups_size_top_10"
   ]
  },
  {
   "cell_type": "code",
   "execution_count": 18,
   "metadata": {},
   "outputs": [
    {
     "data": {
      "text/plain": [
       "0.14"
      ]
     },
     "execution_count": 18,
     "metadata": {},
     "output_type": "execute_result"
    }
   ],
   "source": [
    "round(poi_groups_size[poi_groups_size['size'] > 2]['size'].sum() / poi_groups_size['size'].sum(), 2)"
   ]
  },
  {
   "cell_type": "code",
   "execution_count": 48,
   "metadata": {},
   "outputs": [
    {
     "data": {
      "text/html": [
       "<div>\n",
       "<style scoped>\n",
       "    .dataframe tbody tr th:only-of-type {\n",
       "        vertical-align: middle;\n",
       "    }\n",
       "\n",
       "    .dataframe tbody tr th {\n",
       "        vertical-align: top;\n",
       "    }\n",
       "\n",
       "    .dataframe thead th {\n",
       "        text-align: right;\n",
       "    }\n",
       "</style>\n",
       "<table border=\"1\" class=\"dataframe\">\n",
       "  <thead>\n",
       "    <tr style=\"text-align: right;\">\n",
       "      <th></th>\n",
       "      <th>id</th>\n",
       "      <th>name</th>\n",
       "      <th>latitude</th>\n",
       "      <th>longitude</th>\n",
       "      <th>address</th>\n",
       "      <th>city</th>\n",
       "      <th>state</th>\n",
       "      <th>zip</th>\n",
       "      <th>country</th>\n",
       "      <th>url</th>\n",
       "      <th>phone</th>\n",
       "      <th>categories</th>\n",
       "      <th>point_of_interest</th>\n",
       "    </tr>\n",
       "  </thead>\n",
       "  <tbody>\n",
       "    <tr>\n",
       "      <th>10820</th>\n",
       "      <td>E_02761e40f68230</td>\n",
       "      <td>Sukarno Hatta airport</td>\n",
       "      <td>-7.329110</td>\n",
       "      <td>108.213608</td>\n",
       "      <td>NaN</td>\n",
       "      <td>NaN</td>\n",
       "      <td>NaN</td>\n",
       "      <td>NaN</td>\n",
       "      <td>ID</td>\n",
       "      <td>NaN</td>\n",
       "      <td>NaN</td>\n",
       "      <td>Airport Terminals</td>\n",
       "      <td>P_fb339198a31db3</td>\n",
       "    </tr>\n",
       "    <tr>\n",
       "      <th>14686</th>\n",
       "      <td>E_0351377fc6b71d</td>\n",
       "      <td>Bandara Soekarno Hatta</td>\n",
       "      <td>-6.143365</td>\n",
       "      <td>106.729291</td>\n",
       "      <td>NaN</td>\n",
       "      <td>NaN</td>\n",
       "      <td>NaN</td>\n",
       "      <td>NaN</td>\n",
       "      <td>ID</td>\n",
       "      <td>NaN</td>\n",
       "      <td>NaN</td>\n",
       "      <td>NaN</td>\n",
       "      <td>P_fb339198a31db3</td>\n",
       "    </tr>\n",
       "    <tr>\n",
       "      <th>19520</th>\n",
       "      <td>E_046132a06d8bc5</td>\n",
       "      <td>Bandar Djakarta</td>\n",
       "      <td>-6.117818</td>\n",
       "      <td>106.855710</td>\n",
       "      <td>NaN</td>\n",
       "      <td>NaN</td>\n",
       "      <td>NaN</td>\n",
       "      <td>NaN</td>\n",
       "      <td>ID</td>\n",
       "      <td>NaN</td>\n",
       "      <td>NaN</td>\n",
       "      <td>NaN</td>\n",
       "      <td>P_fb339198a31db3</td>\n",
       "    </tr>\n",
       "    <tr>\n",
       "      <th>21192</th>\n",
       "      <td>E_04c39deab3aba2</td>\n",
       "      <td>Bandara Soekarnao Hatta...^^,</td>\n",
       "      <td>-6.234635</td>\n",
       "      <td>106.874453</td>\n",
       "      <td>NaN</td>\n",
       "      <td>NaN</td>\n",
       "      <td>NaN</td>\n",
       "      <td>NaN</td>\n",
       "      <td>ID</td>\n",
       "      <td>NaN</td>\n",
       "      <td>NaN</td>\n",
       "      <td>Airport Terminals</td>\n",
       "      <td>P_fb339198a31db3</td>\n",
       "    </tr>\n",
       "    <tr>\n",
       "      <th>21433</th>\n",
       "      <td>E_04d15c990bfd9e</td>\n",
       "      <td>Bandara Soekarno Hatta</td>\n",
       "      <td>1.541611</td>\n",
       "      <td>98.915245</td>\n",
       "      <td>NaN</td>\n",
       "      <td>NaN</td>\n",
       "      <td>NaN</td>\n",
       "      <td>NaN</td>\n",
       "      <td>ID</td>\n",
       "      <td>NaN</td>\n",
       "      <td>NaN</td>\n",
       "      <td>NaN</td>\n",
       "      <td>P_fb339198a31db3</td>\n",
       "    </tr>\n",
       "    <tr>\n",
       "      <th>21679</th>\n",
       "      <td>E_04e0dc77ae3b41</td>\n",
       "      <td>Soekarno Hatta International Airport</td>\n",
       "      <td>-6.162889</td>\n",
       "      <td>106.663583</td>\n",
       "      <td>NaN</td>\n",
       "      <td>NaN</td>\n",
       "      <td>NaN</td>\n",
       "      <td>NaN</td>\n",
       "      <td>ID</td>\n",
       "      <td>NaN</td>\n",
       "      <td>NaN</td>\n",
       "      <td>NaN</td>\n",
       "      <td>P_fb339198a31db3</td>\n",
       "    </tr>\n",
       "    <tr>\n",
       "      <th>25621</th>\n",
       "      <td>E_05bd0fb0583a00</td>\n",
       "      <td>Bandara Soekarno-Hatta</td>\n",
       "      <td>-6.132030</td>\n",
       "      <td>106.656560</td>\n",
       "      <td>NaN</td>\n",
       "      <td>NaN</td>\n",
       "      <td>NaN</td>\n",
       "      <td>NaN</td>\n",
       "      <td>ID</td>\n",
       "      <td>NaN</td>\n",
       "      <td>NaN</td>\n",
       "      <td>Airports</td>\n",
       "      <td>P_fb339198a31db3</td>\n",
       "    </tr>\n",
       "    <tr>\n",
       "      <th>28095</th>\n",
       "      <td>E_064c0b1349b6bc</td>\n",
       "      <td>Airport Soekarno Hatta</td>\n",
       "      <td>-6.084393</td>\n",
       "      <td>106.643902</td>\n",
       "      <td>NaN</td>\n",
       "      <td>NaN</td>\n",
       "      <td>NaN</td>\n",
       "      <td>NaN</td>\n",
       "      <td>ID</td>\n",
       "      <td>NaN</td>\n",
       "      <td>NaN</td>\n",
       "      <td>NaN</td>\n",
       "      <td>P_fb339198a31db3</td>\n",
       "    </tr>\n",
       "    <tr>\n",
       "      <th>32084</th>\n",
       "      <td>E_072ee0f2f2d57b</td>\n",
       "      <td>Bandara Soekarno Hatta</td>\n",
       "      <td>-2.968360</td>\n",
       "      <td>104.749641</td>\n",
       "      <td>NaN</td>\n",
       "      <td>NaN</td>\n",
       "      <td>NaN</td>\n",
       "      <td>NaN</td>\n",
       "      <td>ID</td>\n",
       "      <td>NaN</td>\n",
       "      <td>NaN</td>\n",
       "      <td>NaN</td>\n",
       "      <td>P_fb339198a31db3</td>\n",
       "    </tr>\n",
       "    <tr>\n",
       "      <th>35512</th>\n",
       "      <td>E_07f58814417602</td>\n",
       "      <td>Soekarno-Hatta International Airport</td>\n",
       "      <td>-6.123611</td>\n",
       "      <td>106.661111</td>\n",
       "      <td>Cengkareng Tanggerang Banten</td>\n",
       "      <td>NaN</td>\n",
       "      <td>NaN</td>\n",
       "      <td>NaN</td>\n",
       "      <td>ID</td>\n",
       "      <td>NaN</td>\n",
       "      <td>NaN</td>\n",
       "      <td>Bakeries</td>\n",
       "      <td>P_fb339198a31db3</td>\n",
       "    </tr>\n",
       "    <tr>\n",
       "      <th>37628</th>\n",
       "      <td>E_0870969c2a1b6a</td>\n",
       "      <td>Bandara Internasional Soekarno Hatta</td>\n",
       "      <td>-8.263402</td>\n",
       "      <td>115.043868</td>\n",
       "      <td>NaN</td>\n",
       "      <td>NaN</td>\n",
       "      <td>NaN</td>\n",
       "      <td>NaN</td>\n",
       "      <td>ID</td>\n",
       "      <td>NaN</td>\n",
       "      <td>NaN</td>\n",
       "      <td>Airports</td>\n",
       "      <td>P_fb339198a31db3</td>\n",
       "    </tr>\n",
       "    <tr>\n",
       "      <th>43806</th>\n",
       "      <td>E_09cf6d8f6c9617</td>\n",
       "      <td>Bandara soekarno hatta</td>\n",
       "      <td>-1.606547</td>\n",
       "      <td>103.638801</td>\n",
       "      <td>NaN</td>\n",
       "      <td>NaN</td>\n",
       "      <td>NaN</td>\n",
       "      <td>NaN</td>\n",
       "      <td>ID</td>\n",
       "      <td>NaN</td>\n",
       "      <td>NaN</td>\n",
       "      <td>Airport Terminals</td>\n",
       "      <td>P_fb339198a31db3</td>\n",
       "    </tr>\n",
       "    <tr>\n",
       "      <th>48483</th>\n",
       "      <td>E_0ad700c8278a40</td>\n",
       "      <td>Bandara Soekarno Hatta</td>\n",
       "      <td>-6.227085</td>\n",
       "      <td>106.583742</td>\n",
       "      <td>NaN</td>\n",
       "      <td>NaN</td>\n",
       "      <td>NaN</td>\n",
       "      <td>NaN</td>\n",
       "      <td>ID</td>\n",
       "      <td>NaN</td>\n",
       "      <td>NaN</td>\n",
       "      <td>Airports</td>\n",
       "      <td>P_fb339198a31db3</td>\n",
       "    </tr>\n",
       "    <tr>\n",
       "      <th>52424</th>\n",
       "      <td>E_0bbd909382cd75</td>\n",
       "      <td>Airport Soekarno Hatta</td>\n",
       "      <td>-6.154987</td>\n",
       "      <td>106.607684</td>\n",
       "      <td>NaN</td>\n",
       "      <td>NaN</td>\n",
       "      <td>NaN</td>\n",
       "      <td>NaN</td>\n",
       "      <td>ID</td>\n",
       "      <td>NaN</td>\n",
       "      <td>NaN</td>\n",
       "      <td>NaN</td>\n",
       "      <td>P_fb339198a31db3</td>\n",
       "    </tr>\n",
       "    <tr>\n",
       "      <th>53209</th>\n",
       "      <td>E_0bea717f95598d</td>\n",
       "      <td>Soekarno-Hatta International Airport</td>\n",
       "      <td>-7.561641</td>\n",
       "      <td>110.799957</td>\n",
       "      <td>NaN</td>\n",
       "      <td>NaN</td>\n",
       "      <td>NaN</td>\n",
       "      <td>NaN</td>\n",
       "      <td>ID</td>\n",
       "      <td>NaN</td>\n",
       "      <td>NaN</td>\n",
       "      <td>NaN</td>\n",
       "      <td>P_fb339198a31db3</td>\n",
       "    </tr>\n",
       "    <tr>\n",
       "      <th>54102</th>\n",
       "      <td>E_0c1da0c43edac4</td>\n",
       "      <td>Soekarno - Hatta international airport</td>\n",
       "      <td>-6.261715</td>\n",
       "      <td>106.947052</td>\n",
       "      <td>NaN</td>\n",
       "      <td>NaN</td>\n",
       "      <td>NaN</td>\n",
       "      <td>NaN</td>\n",
       "      <td>ID</td>\n",
       "      <td>NaN</td>\n",
       "      <td>NaN</td>\n",
       "      <td>NaN</td>\n",
       "      <td>P_fb339198a31db3</td>\n",
       "    </tr>\n",
       "    <tr>\n",
       "      <th>65734</th>\n",
       "      <td>E_0eb7483e7563be</td>\n",
       "      <td>Soetta Int'l Airport</td>\n",
       "      <td>-6.127980</td>\n",
       "      <td>106.657837</td>\n",
       "      <td>NaN</td>\n",
       "      <td>Tangerang</td>\n",
       "      <td>NaN</td>\n",
       "      <td>NaN</td>\n",
       "      <td>ID</td>\n",
       "      <td>NaN</td>\n",
       "      <td>NaN</td>\n",
       "      <td>Airports</td>\n",
       "      <td>P_fb339198a31db3</td>\n",
       "    </tr>\n",
       "    <tr>\n",
       "      <th>66041</th>\n",
       "      <td>E_0ec9254b228d91</td>\n",
       "      <td>Soekarno Hatta International Airport</td>\n",
       "      <td>-6.138878</td>\n",
       "      <td>106.809153</td>\n",
       "      <td>NaN</td>\n",
       "      <td>NaN</td>\n",
       "      <td>NaN</td>\n",
       "      <td>NaN</td>\n",
       "      <td>ID</td>\n",
       "      <td>NaN</td>\n",
       "      <td>NaN</td>\n",
       "      <td>NaN</td>\n",
       "      <td>P_fb339198a31db3</td>\n",
       "    </tr>\n",
       "    <tr>\n",
       "      <th>69987</th>\n",
       "      <td>E_0fa9246c3bebcb</td>\n",
       "      <td>Bandara Soekarno Hatta</td>\n",
       "      <td>-6.221313</td>\n",
       "      <td>106.682604</td>\n",
       "      <td>NaN</td>\n",
       "      <td>NaN</td>\n",
       "      <td>NaN</td>\n",
       "      <td>NaN</td>\n",
       "      <td>ID</td>\n",
       "      <td>NaN</td>\n",
       "      <td>NaN</td>\n",
       "      <td>NaN</td>\n",
       "      <td>P_fb339198a31db3</td>\n",
       "    </tr>\n",
       "    <tr>\n",
       "      <th>70544</th>\n",
       "      <td>E_0fc82270e70bf3</td>\n",
       "      <td>Soekarno Hatta Airport International</td>\n",
       "      <td>-6.147544</td>\n",
       "      <td>106.727968</td>\n",
       "      <td>NaN</td>\n",
       "      <td>NaN</td>\n",
       "      <td>NaN</td>\n",
       "      <td>NaN</td>\n",
       "      <td>ID</td>\n",
       "      <td>NaN</td>\n",
       "      <td>NaN</td>\n",
       "      <td>NaN</td>\n",
       "      <td>P_fb339198a31db3</td>\n",
       "    </tr>\n",
       "  </tbody>\n",
       "</table>\n",
       "</div>"
      ],
      "text/plain": [
       "                     id                                    name  latitude  \\\n",
       "10820  E_02761e40f68230                   Sukarno Hatta airport -7.329110   \n",
       "14686  E_0351377fc6b71d                  Bandara Soekarno Hatta -6.143365   \n",
       "19520  E_046132a06d8bc5                         Bandar Djakarta -6.117818   \n",
       "21192  E_04c39deab3aba2           Bandara Soekarnao Hatta...^^, -6.234635   \n",
       "21433  E_04d15c990bfd9e                  Bandara Soekarno Hatta  1.541611   \n",
       "21679  E_04e0dc77ae3b41    Soekarno Hatta International Airport -6.162889   \n",
       "25621  E_05bd0fb0583a00                  Bandara Soekarno-Hatta -6.132030   \n",
       "28095  E_064c0b1349b6bc                  Airport Soekarno Hatta -6.084393   \n",
       "32084  E_072ee0f2f2d57b                  Bandara Soekarno Hatta -2.968360   \n",
       "35512  E_07f58814417602    Soekarno-Hatta International Airport -6.123611   \n",
       "37628  E_0870969c2a1b6a    Bandara Internasional Soekarno Hatta -8.263402   \n",
       "43806  E_09cf6d8f6c9617                  Bandara soekarno hatta -1.606547   \n",
       "48483  E_0ad700c8278a40                  Bandara Soekarno Hatta -6.227085   \n",
       "52424  E_0bbd909382cd75                  Airport Soekarno Hatta -6.154987   \n",
       "53209  E_0bea717f95598d    Soekarno-Hatta International Airport -7.561641   \n",
       "54102  E_0c1da0c43edac4  Soekarno - Hatta international airport -6.261715   \n",
       "65734  E_0eb7483e7563be                    Soetta Int'l Airport -6.127980   \n",
       "66041  E_0ec9254b228d91    Soekarno Hatta International Airport -6.138878   \n",
       "69987  E_0fa9246c3bebcb                  Bandara Soekarno Hatta -6.221313   \n",
       "70544  E_0fc82270e70bf3    Soekarno Hatta Airport International -6.147544   \n",
       "\n",
       "        longitude                       address       city state  zip country  \\\n",
       "10820  108.213608                           NaN        NaN   NaN  NaN      ID   \n",
       "14686  106.729291                           NaN        NaN   NaN  NaN      ID   \n",
       "19520  106.855710                           NaN        NaN   NaN  NaN      ID   \n",
       "21192  106.874453                           NaN        NaN   NaN  NaN      ID   \n",
       "21433   98.915245                           NaN        NaN   NaN  NaN      ID   \n",
       "21679  106.663583                           NaN        NaN   NaN  NaN      ID   \n",
       "25621  106.656560                           NaN        NaN   NaN  NaN      ID   \n",
       "28095  106.643902                           NaN        NaN   NaN  NaN      ID   \n",
       "32084  104.749641                           NaN        NaN   NaN  NaN      ID   \n",
       "35512  106.661111  Cengkareng Tanggerang Banten        NaN   NaN  NaN      ID   \n",
       "37628  115.043868                           NaN        NaN   NaN  NaN      ID   \n",
       "43806  103.638801                           NaN        NaN   NaN  NaN      ID   \n",
       "48483  106.583742                           NaN        NaN   NaN  NaN      ID   \n",
       "52424  106.607684                           NaN        NaN   NaN  NaN      ID   \n",
       "53209  110.799957                           NaN        NaN   NaN  NaN      ID   \n",
       "54102  106.947052                           NaN        NaN   NaN  NaN      ID   \n",
       "65734  106.657837                           NaN  Tangerang   NaN  NaN      ID   \n",
       "66041  106.809153                           NaN        NaN   NaN  NaN      ID   \n",
       "69987  106.682604                           NaN        NaN   NaN  NaN      ID   \n",
       "70544  106.727968                           NaN        NaN   NaN  NaN      ID   \n",
       "\n",
       "       url phone         categories point_of_interest  \n",
       "10820  NaN   NaN  Airport Terminals  P_fb339198a31db3  \n",
       "14686  NaN   NaN                NaN  P_fb339198a31db3  \n",
       "19520  NaN   NaN                NaN  P_fb339198a31db3  \n",
       "21192  NaN   NaN  Airport Terminals  P_fb339198a31db3  \n",
       "21433  NaN   NaN                NaN  P_fb339198a31db3  \n",
       "21679  NaN   NaN                NaN  P_fb339198a31db3  \n",
       "25621  NaN   NaN           Airports  P_fb339198a31db3  \n",
       "28095  NaN   NaN                NaN  P_fb339198a31db3  \n",
       "32084  NaN   NaN                NaN  P_fb339198a31db3  \n",
       "35512  NaN   NaN           Bakeries  P_fb339198a31db3  \n",
       "37628  NaN   NaN           Airports  P_fb339198a31db3  \n",
       "43806  NaN   NaN  Airport Terminals  P_fb339198a31db3  \n",
       "48483  NaN   NaN           Airports  P_fb339198a31db3  \n",
       "52424  NaN   NaN                NaN  P_fb339198a31db3  \n",
       "53209  NaN   NaN                NaN  P_fb339198a31db3  \n",
       "54102  NaN   NaN                NaN  P_fb339198a31db3  \n",
       "65734  NaN   NaN           Airports  P_fb339198a31db3  \n",
       "66041  NaN   NaN                NaN  P_fb339198a31db3  \n",
       "69987  NaN   NaN                NaN  P_fb339198a31db3  \n",
       "70544  NaN   NaN                NaN  P_fb339198a31db3  "
      ]
     },
     "execution_count": 48,
     "metadata": {},
     "output_type": "execute_result"
    }
   ],
   "source": [
    "train[train['point_of_interest'] == 'P_fb339198a31db3'].head(20) "
   ]
  },
  {
   "cell_type": "code",
   "execution_count": 21,
   "metadata": {},
   "outputs": [
    {
     "name": "stderr",
     "output_type": "stream",
     "text": [
      "XX not found in ISO2\n",
      "AN not found in ISO2\n",
      "EU not found in ISO2\n"
     ]
    },
    {
     "data": {
      "text/html": [
       "<div>\n",
       "<style scoped>\n",
       "    .dataframe tbody tr th:only-of-type {\n",
       "        vertical-align: middle;\n",
       "    }\n",
       "\n",
       "    .dataframe tbody tr th {\n",
       "        vertical-align: top;\n",
       "    }\n",
       "\n",
       "    .dataframe thead th {\n",
       "        text-align: right;\n",
       "    }\n",
       "</style>\n",
       "<table border=\"1\" class=\"dataframe\">\n",
       "  <thead>\n",
       "    <tr style=\"text-align: right;\">\n",
       "      <th></th>\n",
       "      <th>country</th>\n",
       "      <th>% data</th>\n",
       "    </tr>\n",
       "  </thead>\n",
       "  <tbody>\n",
       "    <tr>\n",
       "      <th>0</th>\n",
       "      <td>USA</td>\n",
       "      <td>21.538794</td>\n",
       "    </tr>\n",
       "    <tr>\n",
       "      <th>1</th>\n",
       "      <td>TUR</td>\n",
       "      <td>10.113883</td>\n",
       "    </tr>\n",
       "    <tr>\n",
       "      <th>2</th>\n",
       "      <td>IDN</td>\n",
       "      <td>9.729180</td>\n",
       "    </tr>\n",
       "    <tr>\n",
       "      <th>3</th>\n",
       "      <td>JPN</td>\n",
       "      <td>6.149626</td>\n",
       "    </tr>\n",
       "    <tr>\n",
       "      <th>4</th>\n",
       "      <td>THA</td>\n",
       "      <td>5.164028</td>\n",
       "    </tr>\n",
       "  </tbody>\n",
       "</table>\n",
       "</div>"
      ],
      "text/plain": [
       "  country     % data\n",
       "0     USA  21.538794\n",
       "1     TUR  10.113883\n",
       "2     IDN   9.729180\n",
       "3     JPN   6.149626\n",
       "4     THA   5.164028"
      ]
     },
     "execution_count": 21,
     "metadata": {},
     "output_type": "execute_result"
    }
   ],
   "source": [
    "cc = coco.CountryConverter()\n",
    "\n",
    "country_stats=train['country'].value_counts()*100/train['country'].value_counts().sum()\n",
    "\n",
    "country_stats.index = coco.convert(names=country_stats.index, to='ISO3')\n",
    "country_stats=country_stats.reset_index().rename(columns={'index':'country','country':'% data'})\n",
    "country_stats.head()"
   ]
  },
  {
   "cell_type": "code",
   "execution_count": 22,
   "metadata": {},
   "outputs": [
    {
     "data": {
      "application/vnd.plotly.v1+json": {
       "config": {
        "plotlyServerURL": "https://plot.ly"
       },
       "data": [
        {
         "autocolorscale": false,
         "colorbar": {
          "tickprefix": "%",
          "title": {
           "text": "Data availability"
          }
         },
         "colorscale": [
          [
           0,
           "rgb(247,252,245)"
          ],
          [
           0.125,
           "rgb(229,245,224)"
          ],
          [
           0.25,
           "rgb(199,233,192)"
          ],
          [
           0.375,
           "rgb(161,217,155)"
          ],
          [
           0.5,
           "rgb(116,196,118)"
          ],
          [
           0.625,
           "rgb(65,171,93)"
          ],
          [
           0.75,
           "rgb(35,139,69)"
          ],
          [
           0.875,
           "rgb(0,109,44)"
          ],
          [
           1,
           "rgb(0,68,27)"
          ]
         ],
         "locations": [
          "USA",
          "TUR",
          "IDN",
          "JPN",
          "THA",
          "RUS",
          "BRA",
          "MYS",
          "BEL",
          "GBR",
          "PHL",
          "MEX",
          "SGP",
          "KOR",
          "DEU",
          "FRA",
          "ESP",
          "CAN",
          "ITA",
          "SAU",
          "AUS",
          "UKR",
          "CHL",
          "NLD",
          "CHN",
          "FIN",
          "GRC",
          "ARG",
          "HKG",
          "CZE",
          "IND",
          "TWN",
          "ARE",
          "KWT",
          "IRN",
          "COL",
          "ROU",
          "SWE",
          "HUN",
          "VNM",
          "EGY",
          "ZAF",
          "PRT",
          "PER",
          "LVA",
          "POL",
          "AUT",
          "CHE",
          "BLR",
          "DNK",
          "IRL",
          "BGR",
          "CRI",
          "PRY",
          "CYP",
          "SRB",
          "NZL",
          "VEN",
          "PRI",
          "DOM",
          "MKD",
          "HRV",
          "NOR",
          "ISR",
          "SVK",
          "EST",
          "MDV",
          "BRN",
          "ECU",
          "MDA",
          "TUN",
          "PAN",
          "LKA",
          "QAT",
          "LTU",
          "BHR",
          "GTM",
          "GEO",
          "SLV",
          "JOR",
          "AZE",
          "KEN",
          "KAZ",
          "URY",
          "KHM",
          "MAR",
          "LBN",
          "SVN",
          "MTQ",
          "ISL",
          "MNE",
          "MLT",
          "HND",
          "OMN",
          "JAM",
          "TTO",
          "PAK",
          "not found",
          "GUM",
          "BOL",
          "LUX",
          "MMR",
          "BGD",
          "LAO",
          "MAC",
          "ARM",
          "NIC",
          "NGA",
          "MNG",
          "BIH",
          "UZB",
          "TKM",
          "GHA",
          "KGZ",
          "BHS",
          "BRB",
          "IRQ",
          "TZA",
          "NPL",
          "ABW",
          "ALB",
          "MUS",
          "VIR",
          "UGA",
          "MCO",
          "GLP",
          "SYR",
          "CUB",
          "IMN",
          "XKX",
          "ZMB",
          "SDN",
          "CYM",
          "MNP",
          "BLZ",
          "LCA",
          "MOZ",
          "SMR",
          "BMU",
          "PYF",
          "REU",
          "GGY",
          "ETH",
          "ALA",
          "TCA",
          "JEY",
          "BWA",
          "AND",
          "FJI",
          "BLM",
          "AFG",
          "CUW",
          "HTI",
          "WSM",
          "DZA",
          "GUF",
          "ATA",
          "GIB",
          "SYC",
          "AGO",
          "PSE",
          "SUR",
          "PRK",
          "VGB",
          "GRD",
          "MDG",
          "CMR",
          "ATG",
          "MWI",
          "VCT",
          "VAT",
          "RWA",
          "DMA",
          "CPV",
          "SXM",
          "COD",
          "LIE",
          "MAF",
          "SEN",
          "BTN",
          "CIV",
          "TLS",
          "BFA",
          "AIA",
          "KNA",
          "ZWE",
          "SWZ",
          "SOM",
          "NCL",
          "LBY",
          "TJK",
          "YEM",
          "BDI",
          "PNG",
          "GMB",
          "GRL",
          "NER",
          "TON",
          "BES",
          "not found",
          "STP",
          "PLW",
          "SJM",
          "FRO",
          "GNQ",
          "ESH",
          "MYT",
          "TGO",
          "BEN",
          "LBR",
          "SHN",
          "DJI",
          "GNB",
          "GAB",
          "SLE",
          "not found",
          "BVT",
          "GUY",
          "SPM",
          "SSD",
          "VUT"
         ],
         "marker": {
          "line": {
           "color": "lightgray",
           "width": 0.5
          }
         },
         "text": [
          "USA",
          "TUR",
          "IDN",
          "JPN",
          "THA",
          "RUS",
          "BRA",
          "MYS",
          "BEL",
          "GBR",
          "PHL",
          "MEX",
          "SGP",
          "KOR",
          "DEU",
          "FRA",
          "ESP",
          "CAN",
          "ITA",
          "SAU",
          "AUS",
          "UKR",
          "CHL",
          "NLD",
          "CHN",
          "FIN",
          "GRC",
          "ARG",
          "HKG",
          "CZE",
          "IND",
          "TWN",
          "ARE",
          "KWT",
          "IRN",
          "COL",
          "ROU",
          "SWE",
          "HUN",
          "VNM",
          "EGY",
          "ZAF",
          "PRT",
          "PER",
          "LVA",
          "POL",
          "AUT",
          "CHE",
          "BLR",
          "DNK",
          "IRL",
          "BGR",
          "CRI",
          "PRY",
          "CYP",
          "SRB",
          "NZL",
          "VEN",
          "PRI",
          "DOM",
          "MKD",
          "HRV",
          "NOR",
          "ISR",
          "SVK",
          "EST",
          "MDV",
          "BRN",
          "ECU",
          "MDA",
          "TUN",
          "PAN",
          "LKA",
          "QAT",
          "LTU",
          "BHR",
          "GTM",
          "GEO",
          "SLV",
          "JOR",
          "AZE",
          "KEN",
          "KAZ",
          "URY",
          "KHM",
          "MAR",
          "LBN",
          "SVN",
          "MTQ",
          "ISL",
          "MNE",
          "MLT",
          "HND",
          "OMN",
          "JAM",
          "TTO",
          "PAK",
          "not found",
          "GUM",
          "BOL",
          "LUX",
          "MMR",
          "BGD",
          "LAO",
          "MAC",
          "ARM",
          "NIC",
          "NGA",
          "MNG",
          "BIH",
          "UZB",
          "TKM",
          "GHA",
          "KGZ",
          "BHS",
          "BRB",
          "IRQ",
          "TZA",
          "NPL",
          "ABW",
          "ALB",
          "MUS",
          "VIR",
          "UGA",
          "MCO",
          "GLP",
          "SYR",
          "CUB",
          "IMN",
          "XKX",
          "ZMB",
          "SDN",
          "CYM",
          "MNP",
          "BLZ",
          "LCA",
          "MOZ",
          "SMR",
          "BMU",
          "PYF",
          "REU",
          "GGY",
          "ETH",
          "ALA",
          "TCA",
          "JEY",
          "BWA",
          "AND",
          "FJI",
          "BLM",
          "AFG",
          "CUW",
          "HTI",
          "WSM",
          "DZA",
          "GUF",
          "ATA",
          "GIB",
          "SYC",
          "AGO",
          "PSE",
          "SUR",
          "PRK",
          "VGB",
          "GRD",
          "MDG",
          "CMR",
          "ATG",
          "MWI",
          "VCT",
          "VAT",
          "RWA",
          "DMA",
          "CPV",
          "SXM",
          "COD",
          "LIE",
          "MAF",
          "SEN",
          "BTN",
          "CIV",
          "TLS",
          "BFA",
          "AIA",
          "KNA",
          "ZWE",
          "SWZ",
          "SOM",
          "NCL",
          "LBY",
          "TJK",
          "YEM",
          "BDI",
          "PNG",
          "GMB",
          "GRL",
          "NER",
          "TON",
          "BES",
          "not found",
          "STP",
          "PLW",
          "SJM",
          "FRO",
          "GNQ",
          "ESH",
          "MYT",
          "TGO",
          "BEN",
          "LBR",
          "SHN",
          "DJI",
          "GNB",
          "GAB",
          "SLE",
          "not found",
          "BVT",
          "GUY",
          "SPM",
          "SSD",
          "VUT"
         ],
         "type": "choropleth",
         "z": [
          21.53879387180025,
          10.113882934770869,
          9.729180076238078,
          6.149625790634184,
          5.164027780095029,
          5.00789865832573,
          4.499556990202854,
          4.067962708146551,
          2.267384731836379,
          2.2430609035292384,
          1.9476624976620147,
          1.8788181605038985,
          1.8444838035793787,
          1.6760610501747013,
          1.5641890022927623,
          1.2446423914274751,
          1.1347900115999197,
          1.0473296036796595,
          1.0006138034652234,
          0.9542492498689411,
          0.9175439782718842,
          0.8661741603669122,
          0.6838771655451655,
          0.6772912914547845,
          0.6537577680384896,
          0.5825425162078361,
          0.5136981790497198,
          0.46145024459936373,
          0.44573195843698765,
          0.43203334032899515,
          0.4079729469854698,
          0.40446048080393326,
          0.3494903850628863,
          0.33306960566420296,
          0.3268349781919756,
          0.3094482705933697,
          0.30453081793921855,
          0.29812056715791435,
          0.2871441103406126,
          0.2835438325045377,
          0.2771335817232335,
          0.2380573954536394,
          0.237969583799101,
          0.23630116236287113,
          0.23094465143602788,
          0.2258515754727999,
          0.2219878626731097,
          0.1938003215662789,
          0.1614856326961427,
          0.15129948076968672,
          0.14629421646099713,
          0.14436236006115202,
          0.1370739927344637,
          0.1350543246800802,
          0.1282050156260839,
          0.1254828543353931,
          0.10994019148209389,
          0.10967675651847865,
          0.1030030707735592,
          0.09685625495587025,
          0.09281691884710322,
          0.0856163631749533,
          0.08526511655679965,
          0.08324544850241614,
          0.082367331957032,
          0.08175265037526311,
          0.06981026535803884,
          0.06296095630404258,
          0.054443225813816463,
          0.04724267014166654,
          0.0450473787782062,
          0.044871755469129374,
          0.04425707388736048,
          0.04337895734197634,
          0.04162272425120807,
          0.039076186269594075,
          0.03890056296051725,
          0.03767119979697946,
          0.036880894906133735,
          0.03582715505167277,
          0.03565153174259594,
          0.03486122685175022,
          0.03231468887013622,
          0.031173137361136846,
          0.03011939750667588,
          0.028275352761369194,
          0.028011917797753954,
          0.027836294488677128,
          0.027572859525061885,
          0.026343496361524093,
          0.02476288657983265,
          0.02072355047106562,
          0.02046011550745038,
          0.020372303852911965,
          0.01835263579852845,
          0.017650142562221142,
          0.017211084289529076,
          0.017035460980452246,
          0.016772026016837006,
          0.016332967744144937,
          0.015367039544222388,
          0.013259559835300461,
          0.012381443289916324,
          0.01203019667176267,
          0.01203019667176267,
          0.011591138399070602,
          0.011503326744532187,
          0.011415515089993774,
          0.010537398544609639,
          0.01036177523553281,
          0.009922716962840743,
          0.009220223726533434,
          0.00842991883568771,
          0.008078672217534055,
          0.0075518022903035735,
          0.00746399063576516,
          0.007112744017611506,
          0.006322439126765783,
          0.005971192508612128,
          0.00553213423592006,
          0.005093075963227991,
          0.005005264308689578,
          0.004566206035997509,
          0.004390582726920682,
          0.0038637127996902004,
          0.0037759011451517868,
          0.003688089490613373,
          0.003688089490613373,
          0.003688089490613373,
          0.003512466181536546,
          0.0033368428724597186,
          0.003249031217921305,
          0.0026343496361524096,
          0.0025465379816139956,
          0.0025465379816139956,
          0.002458726327075582,
          0.0023709146725371683,
          0.0022831030179987547,
          0.0022831030179987547,
          0.0022831030179987547,
          0.002195291363460341,
          0.0021074797089219274,
          0.002019668054383514,
          0.0019318563998451002,
          0.0019318563998451002,
          0.0019318563998451002,
          0.0018440447453066866,
          0.001756233090768273,
          0.001756233090768273,
          0.0016684214362298593,
          0.0016684214362298593,
          0.0015806097816914457,
          0.001492798127153032,
          0.001492798127153032,
          0.001492798127153032,
          0.001492798127153032,
          0.001492798127153032,
          0.0014049864726146184,
          0.0014049864726146184,
          0.0013171748180762048,
          0.0013171748180762048,
          0.0013171748180762048,
          0.001229363163537791,
          0.001229363163537791,
          0.0011415515089993773,
          0.0011415515089993773,
          0.0011415515089993773,
          0.0011415515089993773,
          0.0011415515089993773,
          0.0011415515089993773,
          0.0010537398544609637,
          0.0010537398544609637,
          0.0010537398544609637,
          0.0010537398544609637,
          0.0009659281999225501,
          0.0009659281999225501,
          0.0008781165453841365,
          0.0008781165453841365,
          0.0008781165453841365,
          0.0008781165453841365,
          0.0007903048908457228,
          0.0007024932363073092,
          0.0007024932363073092,
          0.0007024932363073092,
          0.0007024932363073092,
          0.0006146815817688955,
          0.0006146815817688955,
          0.0005268699272304819,
          0.00043905827269206824,
          0.00043905827269206824,
          0.0003512466181536546,
          0.0003512466181536546,
          0.0003512466181536546,
          0.0003512466181536546,
          0.0003512466181536546,
          0.0003512466181536546,
          0.0003512466181536546,
          0.00026343496361524093,
          0.00026343496361524093,
          0.00026343496361524093,
          0.0001756233090768273,
          0.0001756233090768273,
          0.0001756233090768273,
          0.0001756233090768273,
          0.0001756233090768273,
          0.0001756233090768273,
          0.0001756233090768273,
          0.0001756233090768273,
          0.0001756233090768273,
          0.0001756233090768273,
          0.0001756233090768273,
          0.0001756233090768273,
          0.0001756233090768273,
          0.00008781165453841365,
          0.00008781165453841365,
          0.00008781165453841365,
          0.00008781165453841365,
          0.00008781165453841365,
          0.00008781165453841365,
          0.00008781165453841365,
          0.00008781165453841365
         ]
        }
       ],
       "layout": {
        "template": {
         "data": {
          "bar": [
           {
            "error_x": {
             "color": "#2a3f5f"
            },
            "error_y": {
             "color": "#2a3f5f"
            },
            "marker": {
             "line": {
              "color": "#E5ECF6",
              "width": 0.5
             },
             "pattern": {
              "fillmode": "overlay",
              "size": 10,
              "solidity": 0.2
             }
            },
            "type": "bar"
           }
          ],
          "barpolar": [
           {
            "marker": {
             "line": {
              "color": "#E5ECF6",
              "width": 0.5
             },
             "pattern": {
              "fillmode": "overlay",
              "size": 10,
              "solidity": 0.2
             }
            },
            "type": "barpolar"
           }
          ],
          "carpet": [
           {
            "aaxis": {
             "endlinecolor": "#2a3f5f",
             "gridcolor": "white",
             "linecolor": "white",
             "minorgridcolor": "white",
             "startlinecolor": "#2a3f5f"
            },
            "baxis": {
             "endlinecolor": "#2a3f5f",
             "gridcolor": "white",
             "linecolor": "white",
             "minorgridcolor": "white",
             "startlinecolor": "#2a3f5f"
            },
            "type": "carpet"
           }
          ],
          "choropleth": [
           {
            "colorbar": {
             "outlinewidth": 0,
             "ticks": ""
            },
            "type": "choropleth"
           }
          ],
          "contour": [
           {
            "colorbar": {
             "outlinewidth": 0,
             "ticks": ""
            },
            "colorscale": [
             [
              0,
              "#0d0887"
             ],
             [
              0.1111111111111111,
              "#46039f"
             ],
             [
              0.2222222222222222,
              "#7201a8"
             ],
             [
              0.3333333333333333,
              "#9c179e"
             ],
             [
              0.4444444444444444,
              "#bd3786"
             ],
             [
              0.5555555555555556,
              "#d8576b"
             ],
             [
              0.6666666666666666,
              "#ed7953"
             ],
             [
              0.7777777777777778,
              "#fb9f3a"
             ],
             [
              0.8888888888888888,
              "#fdca26"
             ],
             [
              1,
              "#f0f921"
             ]
            ],
            "type": "contour"
           }
          ],
          "contourcarpet": [
           {
            "colorbar": {
             "outlinewidth": 0,
             "ticks": ""
            },
            "type": "contourcarpet"
           }
          ],
          "heatmap": [
           {
            "colorbar": {
             "outlinewidth": 0,
             "ticks": ""
            },
            "colorscale": [
             [
              0,
              "#0d0887"
             ],
             [
              0.1111111111111111,
              "#46039f"
             ],
             [
              0.2222222222222222,
              "#7201a8"
             ],
             [
              0.3333333333333333,
              "#9c179e"
             ],
             [
              0.4444444444444444,
              "#bd3786"
             ],
             [
              0.5555555555555556,
              "#d8576b"
             ],
             [
              0.6666666666666666,
              "#ed7953"
             ],
             [
              0.7777777777777778,
              "#fb9f3a"
             ],
             [
              0.8888888888888888,
              "#fdca26"
             ],
             [
              1,
              "#f0f921"
             ]
            ],
            "type": "heatmap"
           }
          ],
          "heatmapgl": [
           {
            "colorbar": {
             "outlinewidth": 0,
             "ticks": ""
            },
            "colorscale": [
             [
              0,
              "#0d0887"
             ],
             [
              0.1111111111111111,
              "#46039f"
             ],
             [
              0.2222222222222222,
              "#7201a8"
             ],
             [
              0.3333333333333333,
              "#9c179e"
             ],
             [
              0.4444444444444444,
              "#bd3786"
             ],
             [
              0.5555555555555556,
              "#d8576b"
             ],
             [
              0.6666666666666666,
              "#ed7953"
             ],
             [
              0.7777777777777778,
              "#fb9f3a"
             ],
             [
              0.8888888888888888,
              "#fdca26"
             ],
             [
              1,
              "#f0f921"
             ]
            ],
            "type": "heatmapgl"
           }
          ],
          "histogram": [
           {
            "marker": {
             "pattern": {
              "fillmode": "overlay",
              "size": 10,
              "solidity": 0.2
             }
            },
            "type": "histogram"
           }
          ],
          "histogram2d": [
           {
            "colorbar": {
             "outlinewidth": 0,
             "ticks": ""
            },
            "colorscale": [
             [
              0,
              "#0d0887"
             ],
             [
              0.1111111111111111,
              "#46039f"
             ],
             [
              0.2222222222222222,
              "#7201a8"
             ],
             [
              0.3333333333333333,
              "#9c179e"
             ],
             [
              0.4444444444444444,
              "#bd3786"
             ],
             [
              0.5555555555555556,
              "#d8576b"
             ],
             [
              0.6666666666666666,
              "#ed7953"
             ],
             [
              0.7777777777777778,
              "#fb9f3a"
             ],
             [
              0.8888888888888888,
              "#fdca26"
             ],
             [
              1,
              "#f0f921"
             ]
            ],
            "type": "histogram2d"
           }
          ],
          "histogram2dcontour": [
           {
            "colorbar": {
             "outlinewidth": 0,
             "ticks": ""
            },
            "colorscale": [
             [
              0,
              "#0d0887"
             ],
             [
              0.1111111111111111,
              "#46039f"
             ],
             [
              0.2222222222222222,
              "#7201a8"
             ],
             [
              0.3333333333333333,
              "#9c179e"
             ],
             [
              0.4444444444444444,
              "#bd3786"
             ],
             [
              0.5555555555555556,
              "#d8576b"
             ],
             [
              0.6666666666666666,
              "#ed7953"
             ],
             [
              0.7777777777777778,
              "#fb9f3a"
             ],
             [
              0.8888888888888888,
              "#fdca26"
             ],
             [
              1,
              "#f0f921"
             ]
            ],
            "type": "histogram2dcontour"
           }
          ],
          "mesh3d": [
           {
            "colorbar": {
             "outlinewidth": 0,
             "ticks": ""
            },
            "type": "mesh3d"
           }
          ],
          "parcoords": [
           {
            "line": {
             "colorbar": {
              "outlinewidth": 0,
              "ticks": ""
             }
            },
            "type": "parcoords"
           }
          ],
          "pie": [
           {
            "automargin": true,
            "type": "pie"
           }
          ],
          "scatter": [
           {
            "marker": {
             "colorbar": {
              "outlinewidth": 0,
              "ticks": ""
             }
            },
            "type": "scatter"
           }
          ],
          "scatter3d": [
           {
            "line": {
             "colorbar": {
              "outlinewidth": 0,
              "ticks": ""
             }
            },
            "marker": {
             "colorbar": {
              "outlinewidth": 0,
              "ticks": ""
             }
            },
            "type": "scatter3d"
           }
          ],
          "scattercarpet": [
           {
            "marker": {
             "colorbar": {
              "outlinewidth": 0,
              "ticks": ""
             }
            },
            "type": "scattercarpet"
           }
          ],
          "scattergeo": [
           {
            "marker": {
             "colorbar": {
              "outlinewidth": 0,
              "ticks": ""
             }
            },
            "type": "scattergeo"
           }
          ],
          "scattergl": [
           {
            "marker": {
             "colorbar": {
              "outlinewidth": 0,
              "ticks": ""
             }
            },
            "type": "scattergl"
           }
          ],
          "scattermapbox": [
           {
            "marker": {
             "colorbar": {
              "outlinewidth": 0,
              "ticks": ""
             }
            },
            "type": "scattermapbox"
           }
          ],
          "scatterpolar": [
           {
            "marker": {
             "colorbar": {
              "outlinewidth": 0,
              "ticks": ""
             }
            },
            "type": "scatterpolar"
           }
          ],
          "scatterpolargl": [
           {
            "marker": {
             "colorbar": {
              "outlinewidth": 0,
              "ticks": ""
             }
            },
            "type": "scatterpolargl"
           }
          ],
          "scatterternary": [
           {
            "marker": {
             "colorbar": {
              "outlinewidth": 0,
              "ticks": ""
             }
            },
            "type": "scatterternary"
           }
          ],
          "surface": [
           {
            "colorbar": {
             "outlinewidth": 0,
             "ticks": ""
            },
            "colorscale": [
             [
              0,
              "#0d0887"
             ],
             [
              0.1111111111111111,
              "#46039f"
             ],
             [
              0.2222222222222222,
              "#7201a8"
             ],
             [
              0.3333333333333333,
              "#9c179e"
             ],
             [
              0.4444444444444444,
              "#bd3786"
             ],
             [
              0.5555555555555556,
              "#d8576b"
             ],
             [
              0.6666666666666666,
              "#ed7953"
             ],
             [
              0.7777777777777778,
              "#fb9f3a"
             ],
             [
              0.8888888888888888,
              "#fdca26"
             ],
             [
              1,
              "#f0f921"
             ]
            ],
            "type": "surface"
           }
          ],
          "table": [
           {
            "cells": {
             "fill": {
              "color": "#EBF0F8"
             },
             "line": {
              "color": "white"
             }
            },
            "header": {
             "fill": {
              "color": "#C8D4E3"
             },
             "line": {
              "color": "white"
             }
            },
            "type": "table"
           }
          ]
         },
         "layout": {
          "annotationdefaults": {
           "arrowcolor": "#2a3f5f",
           "arrowhead": 0,
           "arrowwidth": 1
          },
          "autotypenumbers": "strict",
          "coloraxis": {
           "colorbar": {
            "outlinewidth": 0,
            "ticks": ""
           }
          },
          "colorscale": {
           "diverging": [
            [
             0,
             "#8e0152"
            ],
            [
             0.1,
             "#c51b7d"
            ],
            [
             0.2,
             "#de77ae"
            ],
            [
             0.3,
             "#f1b6da"
            ],
            [
             0.4,
             "#fde0ef"
            ],
            [
             0.5,
             "#f7f7f7"
            ],
            [
             0.6,
             "#e6f5d0"
            ],
            [
             0.7,
             "#b8e186"
            ],
            [
             0.8,
             "#7fbc41"
            ],
            [
             0.9,
             "#4d9221"
            ],
            [
             1,
             "#276419"
            ]
           ],
           "sequential": [
            [
             0,
             "#0d0887"
            ],
            [
             0.1111111111111111,
             "#46039f"
            ],
            [
             0.2222222222222222,
             "#7201a8"
            ],
            [
             0.3333333333333333,
             "#9c179e"
            ],
            [
             0.4444444444444444,
             "#bd3786"
            ],
            [
             0.5555555555555556,
             "#d8576b"
            ],
            [
             0.6666666666666666,
             "#ed7953"
            ],
            [
             0.7777777777777778,
             "#fb9f3a"
            ],
            [
             0.8888888888888888,
             "#fdca26"
            ],
            [
             1,
             "#f0f921"
            ]
           ],
           "sequentialminus": [
            [
             0,
             "#0d0887"
            ],
            [
             0.1111111111111111,
             "#46039f"
            ],
            [
             0.2222222222222222,
             "#7201a8"
            ],
            [
             0.3333333333333333,
             "#9c179e"
            ],
            [
             0.4444444444444444,
             "#bd3786"
            ],
            [
             0.5555555555555556,
             "#d8576b"
            ],
            [
             0.6666666666666666,
             "#ed7953"
            ],
            [
             0.7777777777777778,
             "#fb9f3a"
            ],
            [
             0.8888888888888888,
             "#fdca26"
            ],
            [
             1,
             "#f0f921"
            ]
           ]
          },
          "colorway": [
           "#636efa",
           "#EF553B",
           "#00cc96",
           "#ab63fa",
           "#FFA15A",
           "#19d3f3",
           "#FF6692",
           "#B6E880",
           "#FF97FF",
           "#FECB52"
          ],
          "font": {
           "color": "#2a3f5f"
          },
          "geo": {
           "bgcolor": "white",
           "lakecolor": "white",
           "landcolor": "#E5ECF6",
           "showlakes": true,
           "showland": true,
           "subunitcolor": "white"
          },
          "hoverlabel": {
           "align": "left"
          },
          "hovermode": "closest",
          "mapbox": {
           "style": "light"
          },
          "paper_bgcolor": "white",
          "plot_bgcolor": "#E5ECF6",
          "polar": {
           "angularaxis": {
            "gridcolor": "white",
            "linecolor": "white",
            "ticks": ""
           },
           "bgcolor": "#E5ECF6",
           "radialaxis": {
            "gridcolor": "white",
            "linecolor": "white",
            "ticks": ""
           }
          },
          "scene": {
           "xaxis": {
            "backgroundcolor": "#E5ECF6",
            "gridcolor": "white",
            "gridwidth": 2,
            "linecolor": "white",
            "showbackground": true,
            "ticks": "",
            "zerolinecolor": "white"
           },
           "yaxis": {
            "backgroundcolor": "#E5ECF6",
            "gridcolor": "white",
            "gridwidth": 2,
            "linecolor": "white",
            "showbackground": true,
            "ticks": "",
            "zerolinecolor": "white"
           },
           "zaxis": {
            "backgroundcolor": "#E5ECF6",
            "gridcolor": "white",
            "gridwidth": 2,
            "linecolor": "white",
            "showbackground": true,
            "ticks": "",
            "zerolinecolor": "white"
           }
          },
          "shapedefaults": {
           "line": {
            "color": "#2a3f5f"
           }
          },
          "ternary": {
           "aaxis": {
            "gridcolor": "white",
            "linecolor": "white",
            "ticks": ""
           },
           "baxis": {
            "gridcolor": "white",
            "linecolor": "white",
            "ticks": ""
           },
           "bgcolor": "#E5ECF6",
           "caxis": {
            "gridcolor": "white",
            "linecolor": "white",
            "ticks": ""
           }
          },
          "title": {
           "x": 0.05
          },
          "xaxis": {
           "automargin": true,
           "gridcolor": "white",
           "linecolor": "white",
           "ticks": "",
           "title": {
            "standoff": 15
           },
           "zerolinecolor": "white",
           "zerolinewidth": 2
          },
          "yaxis": {
           "automargin": true,
           "gridcolor": "white",
           "linecolor": "white",
           "ticks": "",
           "title": {
            "standoff": 15
           },
           "zerolinecolor": "white",
           "zerolinewidth": 2
          }
         }
        },
        "title": {
         "text": "% Data by Country"
        }
       }
      }
     },
     "metadata": {},
     "output_type": "display_data"
    }
   ],
   "source": [
    "import plotly.graph_objects as go\n",
    "import pandas as pd\n",
    "fig = go.Figure(data=go.Choropleth(\n",
    "    locations = country_stats['country'],\n",
    "    z = country_stats['% data'],\n",
    "    text = country_stats['country'],\n",
    "    colorscale = 'greens',\n",
    "    autocolorscale=False,\n",
    "    marker_line_color='lightgray',\n",
    "    marker_line_width=0.5,\n",
    "    colorbar_tickprefix = '%',\n",
    "    colorbar_title = 'Data availability',\n",
    "))\n",
    "fig.update_layout(title_text='% Data by Country')\n",
    "fig.show()"
   ]
  },
  {
   "cell_type": "code",
   "execution_count": 25,
   "metadata": {},
   "outputs": [
    {
     "data": {
      "text/plain": [
       "CA           4.018652\n",
       "NY           3.031219\n",
       "FL           2.395346\n",
       "TX           2.367082\n",
       "東京都          2.209332\n",
       "Bangkok      1.640709\n",
       "PA           1.462075\n",
       "IL           1.373941\n",
       "MI           1.124019\n",
       "Selangor     1.091161\n",
       "OH           1.052733\n",
       "NJ           0.978383\n",
       "GA           0.943993\n",
       "Türkiye      0.942322\n",
       "West Java    0.910438\n",
       "NC           0.905008\n",
       "Indonesia    0.883009\n",
       "SP           0.874377\n",
       "WA           0.840265\n",
       "VA           0.818266\n",
       "Name: state, dtype: float64"
      ]
     },
     "execution_count": 25,
     "metadata": {},
     "output_type": "execute_result"
    }
   ],
   "source": [
    "state_stats = train['state'].value_counts()*100/train['state'].value_counts().sum()\n",
    "state_stats.head(20)"
   ]
  },
  {
   "cell_type": "code",
   "execution_count": 26,
   "metadata": {},
   "outputs": [
    {
     "data": {
      "image/png": "[encoded data removed]",
      "text/plain": [
       "<Figure size 576x504 with 1 Axes>"
      ]
     },
     "metadata": {
      "needs_background": "light"
     },
     "output_type": "display_data"
    }
   ],
   "source": [
    "category_stats=train['categories'].value_counts()*100/train['categories'].value_counts().sum()\n",
    "category_stats=train['categories'].value_counts()*100/train['categories'].value_counts().sum()\n",
    "category_stats=category_stats.head(10)\n",
    "\n",
    "plt.figure(figsize=(8,7))\n",
    "color=[\"gray\"]*len(category_stats.index)\n",
    "color[0]=\"aqua\"\n",
    "sns.barplot(x=category_stats.index, y=category_stats.values,palette=color, saturation=.5)#, palette=clrs) # color=clrs)\n",
    "plt.xticks(rotation=90)\n",
    "plt.title(\"% Data by category\")\n",
    "plt.xlabel('category')\n",
    "_=plt.ylabel('Percentage')"
   ]
  },
  {
   "cell_type": "code",
   "execution_count": 27,
   "metadata": {},
   "outputs": [
    {
     "data": {
      "text/plain": [
       "Residential Buildings (Apartments / Condos)    25481\n",
       "Banks                                          21494\n",
       "College Classrooms                             21438\n",
       "Cafés                                          17805\n",
       "Coffee Shops                                   17097\n",
       "Offices                                        16954\n",
       "Hotels                                         16583\n",
       "Convenience Stores                             13530\n",
       "Buildings                                      11981\n",
       "Salons / Barbershops                           11922\n",
       "Shopping Malls                                 11385\n",
       "Gas Stations                                   10326\n",
       "Fast Food Restaurants                           9963\n",
       "Hospitals                                       9676\n",
       "Restaurants                                     9423\n",
       "Clothing Stores                                 8297\n",
       "Pizza Places                                    8066\n",
       "Automotive Shops                                7961\n",
       "Pharmacies                                      7773\n",
       "Bars                                            7329\n",
       "Parks                                           7208\n",
       "Bakeries                                        6957\n",
       "Doctor's Offices                                6889\n",
       "Housing Developments                            6681\n",
       "Bus Stops                                       6457\n",
       "Beaches                                         6411\n",
       "Grocery Stores                                  5956\n",
       "Supermarkets                                    5792\n",
       "Dentist's Offices                               5643\n",
       "Electronics Stores                              5596\n",
       "Name: categories, dtype: int64"
      ]
     },
     "execution_count": 27,
     "metadata": {},
     "output_type": "execute_result"
    }
   ],
   "source": [
    "train['categories'].value_counts().head(30)"
   ]
  }
 ],
 "metadata": {
  "interpreter": {
   "hash": "de0bc8409ef025c1cbb840425cc59fe64b9a9f2a4a8c73e6bb75ee7bfb1e593c"
  },
  "kernelspec": {
   "display_name": "Python 3.8.13 ('ML')",
   "language": "python",
   "name": "python3"
  },
  "language_info": {
   "codemirror_mode": {
    "name": "ipython",
    "version": 3
   },
   "file_extension": ".py",
   "mimetype": "text/x-python",
   "name": "python",
   "nbconvert_exporter": "python",
   "pygments_lexer": "ipython3",
   "version": "3.8.13"
  }
 },
 "nbformat": 4,
 "nbformat_minor": 2
}
